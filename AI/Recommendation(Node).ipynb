{
 "cells": [
  {
   "cell_type": "markdown",
   "metadata": {},
   "source": [
    "## Prepare the model"
   ]
  },
  {
   "cell_type": "markdown",
   "metadata": {},
   "source": [
    "### Import libraries"
   ]
  },
  {
   "cell_type": "code",
   "execution_count": 6,
   "metadata": {},
   "outputs": [],
   "source": [
    "import pandas as pd\n",
    "import numpy as np\n",
    "from sklearn.model_selection import train_test_split\n",
    "from sklearn.linear_model import LogisticRegression\n",
    "from sklearn.metrics import accuracy_score\n",
    "from sklearn.metrics import precision_score, recall_score, f1_score\n",
    "import joblib"
   ]
  },
  {
   "cell_type": "markdown",
   "metadata": {},
   "source": [
    "### Read the dataset"
   ]
  },
  {
   "cell_type": "code",
   "execution_count": 7,
   "metadata": {},
   "outputs": [
    {
     "name": "stdout",
     "output_type": "stream",
     "text": [
      "Dataset loaded successfully.\n",
      "            Disease   Symptom_1              Symptom_2              Symptom_3  \\\n",
      "0  Fungal infection     itching              skin_rash   nodal_skin_eruptions   \n",
      "1  Fungal infection   skin_rash   nodal_skin_eruptions    dischromic _patches   \n",
      "2  Fungal infection     itching   nodal_skin_eruptions    dischromic _patches   \n",
      "3  Fungal infection     itching              skin_rash    dischromic _patches   \n",
      "4  Fungal infection     itching              skin_rash   nodal_skin_eruptions   \n",
      "\n",
      "              Symptom_4 Symptom_5 Symptom_6 Symptom_7 Symptom_8 Symptom_9  \\\n",
      "0   dischromic _patches       NaN       NaN       NaN       NaN       NaN   \n",
      "1                   NaN       NaN       NaN       NaN       NaN       NaN   \n",
      "2                   NaN       NaN       NaN       NaN       NaN       NaN   \n",
      "3                   NaN       NaN       NaN       NaN       NaN       NaN   \n",
      "4                   NaN       NaN       NaN       NaN       NaN       NaN   \n",
      "\n",
      "  Symptom_10 Symptom_11 Symptom_12 Symptom_13 Symptom_14 Symptom_15  \\\n",
      "0        NaN        NaN        NaN        NaN        NaN        NaN   \n",
      "1        NaN        NaN        NaN        NaN        NaN        NaN   \n",
      "2        NaN        NaN        NaN        NaN        NaN        NaN   \n",
      "3        NaN        NaN        NaN        NaN        NaN        NaN   \n",
      "4        NaN        NaN        NaN        NaN        NaN        NaN   \n",
      "\n",
      "  Symptom_16 Symptom_17  \n",
      "0        NaN        NaN  \n",
      "1        NaN        NaN  \n",
      "2        NaN        NaN  \n",
      "3        NaN        NaN  \n",
      "4        NaN        NaN  \n"
     ]
    }
   ],
   "source": [
    "data = pd.read_csv('Doctors_Specialty_Recommendation/Original_Dataset.csv')\n",
    "print(\"Dataset loaded successfully.\")\n",
    "print(data.head(5))"
   ]
  },
  {
   "cell_type": "markdown",
   "metadata": {},
   "source": [
    "## Data Preprocessing"
   ]
  },
  {
   "cell_type": "code",
   "execution_count": 8,
   "metadata": {},
   "outputs": [
    {
     "name": "stdout",
     "output_type": "stream",
     "text": [
      "Missing values replaced with 0.\n",
      "Disease       0\n",
      "Symptom_1     0\n",
      "Symptom_2     0\n",
      "Symptom_3     0\n",
      "Symptom_4     0\n",
      "Symptom_5     0\n",
      "Symptom_6     0\n",
      "Symptom_7     0\n",
      "Symptom_8     0\n",
      "Symptom_9     0\n",
      "Symptom_10    0\n",
      "Symptom_11    0\n",
      "Symptom_12    0\n",
      "Symptom_13    0\n",
      "Symptom_14    0\n",
      "Symptom_15    0\n",
      "Symptom_16    0\n",
      "Symptom_17    0\n",
      "dtype: int64\n",
      "Column names preprocessed.\n"
     ]
    }
   ],
   "source": [
    "# Replace missing values with 0\n",
    "data.fillna(0, inplace=True)\n",
    "print(\"Missing values replaced with 0.\")\n",
    "print(data.isnull().sum())\n",
    "\n",
    "# Preprocess column names (lowercase and replace spaces with underscores)\n",
    "data.columns = data.columns.str.lower().str.replace(' ', '_')\n",
    "print(\"Column names preprocessed.\")"
   ]
  },
  {
   "cell_type": "markdown",
   "metadata": {},
   "source": [
    "### extracts the values, and assigns the appropriate subset to the \"Symptoms\" column."
   ]
  },
  {
   "cell_type": "code",
   "execution_count": 9,
   "metadata": {},
   "outputs": [
    {
     "name": "stdout",
     "output_type": "stream",
     "text": [
      "Symptoms column added successfully.\n",
      "            disease   symptom_1              symptom_2              symptom_3  \\\n",
      "0  Fungal infection     itching              skin_rash   nodal_skin_eruptions   \n",
      "1  Fungal infection   skin_rash   nodal_skin_eruptions    dischromic _patches   \n",
      "2  Fungal infection     itching   nodal_skin_eruptions    dischromic _patches   \n",
      "3  Fungal infection     itching              skin_rash    dischromic _patches   \n",
      "4  Fungal infection     itching              skin_rash   nodal_skin_eruptions   \n",
      "\n",
      "              symptom_4 symptom_5 symptom_6 symptom_7 symptom_8 symptom_9  \\\n",
      "0   dischromic _patches         0         0         0         0         0   \n",
      "1                     0         0         0         0         0         0   \n",
      "2                     0         0         0         0         0         0   \n",
      "3                     0         0         0         0         0         0   \n",
      "4                     0         0         0         0         0         0   \n",
      "\n",
      "  symptom_10 symptom_11 symptom_12 symptom_13 symptom_14 symptom_15  \\\n",
      "0          0          0          0          0          0          0   \n",
      "1          0          0          0          0          0          0   \n",
      "2          0          0          0          0          0          0   \n",
      "3          0          0          0          0          0          0   \n",
      "4          0          0          0          0          0          0   \n",
      "\n",
      "  symptom_16 symptom_17                                           symptoms  \n",
      "0          0          0  [itching,  skin_rash,  nodal_skin_eruptions,  ...  \n",
      "1          0          0  [ skin_rash,  nodal_skin_eruptions,  dischromi...  \n",
      "2          0          0  [itching,  nodal_skin_eruptions,  dischromic _...  \n",
      "3          0          0        [itching,  skin_rash,  dischromic _patches]  \n",
      "4          0          0       [itching,  skin_rash,  nodal_skin_eruptions]  \n",
      "Symptoms column cleaned.\n",
      "0    [itching, skin_rash, nodal_skin_eruptions, dis...\n",
      "1    [skin_rash, nodal_skin_eruptions, dischromic _...\n",
      "2    [itching, nodal_skin_eruptions, dischromic _pa...\n",
      "3            [itching, skin_rash, dischromic _patches]\n",
      "4           [itching, skin_rash, nodal_skin_eruptions]\n",
      "Name: symptoms, dtype: object\n"
     ]
    }
   ],
   "source": [
    "symptoms = []\n",
    "for i in range(len(data)):\n",
    "    value = data.iloc[i].values.tolist()\n",
    "    if 0 in value:\n",
    "        symptoms.append(value[1:value.index(0)])\n",
    "    else:\n",
    "        symptoms.append(value[1:])\n",
    "\n",
    "# Add the Symptoms column to the dataset\n",
    "data[\"symptoms\"] = symptoms\n",
    "print(\"Symptoms column added successfully.\")\n",
    "print(data.head(5))\n",
    "\n",
    "# Clean the symptoms column\n",
    "data[\"symptoms\"] = data[\"symptoms\"].apply(lambda x: [symptom.strip() for symptom in x])\n",
    "print(\"Symptoms column cleaned.\")\n",
    "print(data[\"symptoms\"].head())"
   ]
  },
  {
   "cell_type": "markdown",
   "metadata": {},
   "source": [
    "### Transforming Symptom Data into Binary Format"
   ]
  },
  {
   "cell_type": "code",
   "execution_count": 10,
   "metadata": {},
   "outputs": [
    {
     "name": "stdout",
     "output_type": "stream",
     "text": [
      "Filtered symps list (strings only): ['itching', ' skin_rash', ' nodal_skin_eruptions', ' dischromic _patches', ' continuous_sneezing', ' shivering', ' chills', ' watering_from_eyes', ' stomach_pain', ' acidity', ' ulcers_on_tongue', ' vomiting', ' cough', ' chest_pain', ' yellowish_skin', ' nausea', ' loss_of_appetite', ' abdominal_pain', ' yellowing_of_eyes', ' burning_micturition', ' spotting_ urination', ' passage_of_gases', ' internal_itching', ' indigestion', ' muscle_wasting', ' patches_in_throat', ' high_fever', ' extra_marital_contacts', ' fatigue', ' weight_loss', ' restlessness', ' lethargy', ' irregular_sugar_level', ' blurred_and_distorted_vision', ' obesity', ' excessive_hunger', ' increased_appetite', ' polyuria', ' sunken_eyes', ' dehydration', ' diarrhoea', ' breathlessness', ' family_history', ' mucoid_sputum', ' headache', ' dizziness', ' loss_of_balance', ' lack_of_concentration', ' stiff_neck', ' depression', ' irritability', ' visual_disturbances', ' back_pain', ' weakness_in_limbs', ' neck_pain', ' weakness_of_one_body_side', ' altered_sensorium', ' dark_urine', ' sweating', ' muscle_pain', ' mild_fever', ' swelled_lymph_nodes', ' malaise', ' red_spots_over_body', ' joint_pain', ' pain_behind_the_eyes', ' constipation', ' toxic_look_(typhos)', ' belly_pain', ' yellow_urine', ' receiving_blood_transfusion', ' receiving_unsterile_injections', ' coma', ' stomach_bleeding', ' acute_liver_failure', ' swelling_of_stomach', ' distention_of_abdomen', ' history_of_alcohol_consumption', ' fluid_overload', ' phlegm', ' blood_in_sputum', ' throat_irritation', ' redness_of_eyes', ' sinus_pressure', ' runny_nose', ' congestion', ' loss_of_smell', ' fast_heart_rate', ' rusty_sputum', ' pain_during_bowel_movements', ' pain_in_anal_region', ' bloody_stool', ' irritation_in_anus', ' cramps', ' bruising', ' swollen_legs', ' swollen_blood_vessels', ' prominent_veins_on_calf', ' weight_gain', ' cold_hands_and_feets', ' mood_swings', ' puffy_face_and_eyes', ' enlarged_thyroid', ' brittle_nails', ' swollen_extremeties', ' abnormal_menstruation', ' muscle_weakness', ' anxiety', ' slurred_speech', ' palpitations', ' drying_and_tingling_lips', ' knee_pain', ' hip_joint_pain', ' swelling_joints', ' painful_walking', ' movement_stiffness', ' spinning_movements', ' unsteadiness', ' pus_filled_pimples', ' blackheads', ' scurring', ' bladder_discomfort', ' foul_smell_of urine', ' continuous_feel_of_urine', ' skin_peeling', ' silver_like_dusting', ' small_dents_in_nails', ' inflammatory_nails', ' blister', ' red_sore_around_nose', ' yellow_crust_ooze']\n",
      "Unique symptoms extracted: ['itching', 'skin_rash', 'nodal_skin_eruptions', 'dischromic__patches', 'continuous_sneezing', 'shivering', 'chills', 'watering_from_eyes', 'stomach_pain', 'acidity', 'ulcers_on_tongue', 'vomiting', 'cough', 'chest_pain', 'yellowish_skin', 'nausea', 'loss_of_appetite', 'abdominal_pain', 'yellowing_of_eyes', 'burning_micturition', 'spotting__urination', 'passage_of_gases', 'internal_itching', 'indigestion', 'muscle_wasting', 'patches_in_throat', 'high_fever', 'extra_marital_contacts', 'fatigue', 'weight_loss', 'restlessness', 'lethargy', 'irregular_sugar_level', 'blurred_and_distorted_vision', 'obesity', 'excessive_hunger', 'increased_appetite', 'polyuria', 'sunken_eyes', 'dehydration', 'diarrhoea', 'breathlessness', 'family_history', 'mucoid_sputum', 'headache', 'dizziness', 'loss_of_balance', 'lack_of_concentration', 'stiff_neck', 'depression', 'irritability', 'visual_disturbances', 'back_pain', 'weakness_in_limbs', 'neck_pain', 'weakness_of_one_body_side', 'altered_sensorium', 'dark_urine', 'sweating', 'muscle_pain', 'mild_fever', 'swelled_lymph_nodes', 'malaise', 'red_spots_over_body', 'joint_pain', 'pain_behind_the_eyes', 'constipation', 'toxic_look_(typhos)', 'belly_pain', 'yellow_urine', 'receiving_blood_transfusion', 'receiving_unsterile_injections', 'coma', 'stomach_bleeding', 'acute_liver_failure', 'swelling_of_stomach', 'distention_of_abdomen', 'history_of_alcohol_consumption', 'fluid_overload', 'phlegm', 'blood_in_sputum', 'throat_irritation', 'redness_of_eyes', 'sinus_pressure', 'runny_nose', 'congestion', 'loss_of_smell', 'fast_heart_rate', 'rusty_sputum', 'pain_during_bowel_movements', 'pain_in_anal_region', 'bloody_stool', 'irritation_in_anus', 'cramps', 'bruising', 'swollen_legs', 'swollen_blood_vessels', 'prominent_veins_on_calf', 'weight_gain', 'cold_hands_and_feets', 'mood_swings', 'puffy_face_and_eyes', 'enlarged_thyroid', 'brittle_nails', 'swollen_extremeties', 'abnormal_menstruation', 'muscle_weakness', 'anxiety', 'slurred_speech', 'palpitations', 'drying_and_tingling_lips', 'knee_pain', 'hip_joint_pain', 'swelling_joints', 'painful_walking', 'movement_stiffness', 'spinning_movements', 'unsteadiness', 'pus_filled_pimples', 'blackheads', 'scurring', 'bladder_discomfort', 'foul_smell_of_urine', 'continuous_feel_of_urine', 'skin_peeling', 'silver_like_dusting', 'small_dents_in_nails', 'inflammatory_nails', 'blister', 'red_sore_around_nose', 'yellow_crust_ooze']\n",
      "Binary DataFrame created successfully.\n",
      "   itching  skin_rash  nodal_skin_eruptions  dischromic__patches  \\\n",
      "0        1          1                     1                    0   \n",
      "1        0          1                     1                    0   \n",
      "2        1          0                     1                    0   \n",
      "3        1          1                     0                    0   \n",
      "4        1          1                     1                    0   \n",
      "\n",
      "   continuous_sneezing  shivering  chills  watering_from_eyes  stomach_pain  \\\n",
      "0                    0          0       0                   0             0   \n",
      "1                    0          0       0                   0             0   \n",
      "2                    0          0       0                   0             0   \n",
      "3                    0          0       0                   0             0   \n",
      "4                    0          0       0                   0             0   \n",
      "\n",
      "   acidity  ...  foul_smell_of_urine  continuous_feel_of_urine  skin_peeling  \\\n",
      "0        0  ...                    0                         0             0   \n",
      "1        0  ...                    0                         0             0   \n",
      "2        0  ...                    0                         0             0   \n",
      "3        0  ...                    0                         0             0   \n",
      "4        0  ...                    0                         0             0   \n",
      "\n",
      "   silver_like_dusting  small_dents_in_nails  inflammatory_nails  blister  \\\n",
      "0                    0                     0                   0        0   \n",
      "1                    0                     0                   0        0   \n",
      "2                    0                     0                   0        0   \n",
      "3                    0                     0                   0        0   \n",
      "4                    0                     0                   0        0   \n",
      "\n",
      "   red_sore_around_nose  yellow_crust_ooze           disease  \n",
      "0                     0                  0  Fungal infection  \n",
      "1                     0                  0  Fungal infection  \n",
      "2                     0                  0  Fungal infection  \n",
      "3                     0                  0  Fungal infection  \n",
      "4                     0                  0  Fungal infection  \n",
      "\n",
      "[5 rows x 132 columns]\n"
     ]
    }
   ],
   "source": [
    "column_values = data[['symptom_1', 'symptom_2', 'symptom_3', 'symptom_4',\n",
    "                      'symptom_5', 'symptom_6', 'symptom_7', 'symptom_8', 'symptom_9',\n",
    "                      'symptom_10', 'symptom_11', 'symptom_12', 'symptom_13', 'symptom_14',\n",
    "                      'symptom_15', 'symptom_16', 'symptom_17']].values.ravel()\n",
    "\n",
    "symps = pd.unique(column_values).tolist()\n",
    "symps = [i for i in symps if str(i) != \"nan\"]  # Remove NaN values\n",
    "symps = [i for i in symps if isinstance(i, str)]  # Keep only string values\n",
    "print(\"Filtered symps list (strings only):\", symps)\n",
    "\n",
    "# Preprocess symptoms\n",
    "symps = [symptom.lower().replace(' ', '_').lstrip('_') for symptom in symps]\n",
    "print(\"Unique symptoms extracted:\", symps)\n",
    "\n",
    "# Create a binary DataFrame for symptoms\n",
    "new_data = pd.DataFrame(0, columns=symps, index=data.index)\n",
    "new_data[\"disease\"] = data[\"disease\"]\n",
    "\n",
    "for col in symps:\n",
    "    new_data[col] = data['symptoms'].apply(lambda x: 1 if col in x else 0)\n",
    "\n",
    "print(\"Binary DataFrame created successfully.\")\n",
    "print(new_data.head())"
   ]
  },
  {
   "cell_type": "markdown",
   "metadata": {},
   "source": [
    "## Training the model"
   ]
  },
  {
   "cell_type": "markdown",
   "metadata": {},
   "source": [
    "### Splitting the data into features (X) and target variable (y)"
   ]
  },
  {
   "cell_type": "code",
   "execution_count": 11,
   "metadata": {},
   "outputs": [
    {
     "name": "stdout",
     "output_type": "stream",
     "text": [
      "Data split into training and testing sets.\n"
     ]
    }
   ],
   "source": [
    "X = new_data.drop('disease', axis=1)\n",
    "y = new_data['disease']\n",
    "\n",
    "X_train, X_test, y_train, y_test = train_test_split(X, y, test_size=0.2, random_state=42, stratify=y)\n",
    "print(\"Data split into training and testing sets.\")"
   ]
  },
  {
   "cell_type": "markdown",
   "metadata": {},
   "source": [
    "### Initializing and fitting the logistic regression model"
   ]
  },
  {
   "cell_type": "code",
   "execution_count": 12,
   "metadata": {},
   "outputs": [
    {
     "name": "stdout",
     "output_type": "stream",
     "text": [
      "Model trained successfully.\n"
     ]
    }
   ],
   "source": [
    "model = LogisticRegression(max_iter=1000, class_weight='balanced', penalty='l2', C=1.0)\n",
    "model.fit(X_train, y_train)\n",
    "print(\"Model trained successfully.\")"
   ]
  },
  {
   "cell_type": "markdown",
   "metadata": {},
   "source": [
    "## Save the trained model and symps list"
   ]
  },
  {
   "cell_type": "code",
   "execution_count": 13,
   "metadata": {},
   "outputs": [
    {
     "name": "stdout",
     "output_type": "stream",
     "text": [
      "Model and symptom list saved successfully.\n"
     ]
    }
   ],
   "source": [
    "joblib.dump(model, 'doctor_specialty_model.joblib')\n",
    "joblib.dump(symps, 'symptom_list.joblib')\n",
    "print(\"Model and symptom list saved successfully.\")"
   ]
  },
  {
   "cell_type": "markdown",
   "metadata": {},
   "source": [
    "## Calculating accuracy"
   ]
  },
  {
   "cell_type": "markdown",
   "metadata": {},
   "source": [
    "### Calculate accuracy, precision, recall, and F1-score for each class."
   ]
  },
  {
   "cell_type": "code",
   "execution_count": 14,
   "metadata": {},
   "outputs": [
    {
     "name": "stdout",
     "output_type": "stream",
     "text": [
      "Accuracy: 1.0\n",
      "Model evaluation metrics:\n",
      "                                      Class  Precision  Recall  F1-score\n",
      "0   (vertigo) Paroymsal  Positional Vertigo        1.0     1.0       1.0\n",
      "1                                      AIDS        1.0     1.0       1.0\n",
      "2                                      Acne        1.0     1.0       1.0\n",
      "3                       Alcoholic hepatitis        1.0     1.0       1.0\n",
      "4                                   Allergy        1.0     1.0       1.0\n",
      "5                                 Arthritis        1.0     1.0       1.0\n",
      "6                          Bronchial Asthma        1.0     1.0       1.0\n",
      "7                      Cervical spondylosis        1.0     1.0       1.0\n",
      "8                               Chicken pox        1.0     1.0       1.0\n",
      "9                       Chronic cholestasis        1.0     1.0       1.0\n",
      "10                              Common Cold        1.0     1.0       1.0\n",
      "11                                   Dengue        1.0     1.0       1.0\n",
      "12                                Diabetes         1.0     1.0       1.0\n",
      "13             Dimorphic hemmorhoids(piles)        1.0     1.0       1.0\n",
      "14                            Drug Reaction        1.0     1.0       1.0\n",
      "15                         Fungal infection        1.0     1.0       1.0\n",
      "16                                     GERD        1.0     1.0       1.0\n",
      "17                          Gastroenteritis        1.0     1.0       1.0\n",
      "18                             Heart attack        1.0     1.0       1.0\n",
      "19                              Hepatitis B        1.0     1.0       1.0\n",
      "20                              Hepatitis C        1.0     1.0       1.0\n",
      "21                              Hepatitis D        1.0     1.0       1.0\n",
      "22                              Hepatitis E        1.0     1.0       1.0\n",
      "23                            Hypertension         1.0     1.0       1.0\n",
      "24                          Hyperthyroidism        1.0     1.0       1.0\n",
      "25                             Hypoglycemia        1.0     1.0       1.0\n",
      "26                           Hypothyroidism        1.0     1.0       1.0\n",
      "27                                 Impetigo        1.0     1.0       1.0\n",
      "28                                 Jaundice        1.0     1.0       1.0\n",
      "29                                  Malaria        1.0     1.0       1.0\n",
      "30                                 Migraine        1.0     1.0       1.0\n",
      "31                          Osteoarthristis        1.0     1.0       1.0\n",
      "32             Paralysis (brain hemorrhage)        1.0     1.0       1.0\n",
      "33                      Peptic ulcer diseae        1.0     1.0       1.0\n",
      "34                                Pneumonia        1.0     1.0       1.0\n",
      "35                                Psoriasis        1.0     1.0       1.0\n",
      "36                             Tuberculosis        1.0     1.0       1.0\n",
      "37                                  Typhoid        1.0     1.0       1.0\n",
      "38                  Urinary tract infection        1.0     1.0       1.0\n",
      "39                           Varicose veins        1.0     1.0       1.0\n",
      "40                              hepatitis A        1.0     1.0       1.0\n"
     ]
    }
   ],
   "source": [
    "y_pred = model.predict(X_test)\n",
    "accuracy = accuracy_score(y_test, y_pred)\n",
    "print(\"Accuracy:\", accuracy)\n",
    "\n",
    "# Calculate precision, recall, and F1-score for each class\n",
    "precision = precision_score(y_test, y_pred, average=None, zero_division=0)\n",
    "recall = recall_score(y_test, y_pred, average=None, zero_division=0)\n",
    "f1 = f1_score(y_test, y_pred, average=None, zero_division=0)\n",
    "\n",
    "# Display metrics\n",
    "metrics_df = pd.DataFrame({'Class': model.classes_,\n",
    "                           'Precision': precision,\n",
    "                           'Recall': recall,\n",
    "                           'F1-score': f1})\n",
    "print(\"Model evaluation metrics:\")\n",
    "print(metrics_df)"
   ]
  },
  {
   "cell_type": "code",
   "execution_count": 15,
   "metadata": {},
   "outputs": [
    {
     "name": "stdout",
     "output_type": "stream",
     "text": [
      "Missing values in the dataset:\n",
      " disease       0\n",
      "symptom_1     0\n",
      "symptom_2     0\n",
      "symptom_3     0\n",
      "symptom_4     0\n",
      "symptom_5     0\n",
      "symptom_6     0\n",
      "symptom_7     0\n",
      "symptom_8     0\n",
      "symptom_9     0\n",
      "symptom_10    0\n",
      "symptom_11    0\n",
      "symptom_12    0\n",
      "symptom_13    0\n",
      "symptom_14    0\n",
      "symptom_15    0\n",
      "symptom_16    0\n",
      "symptom_17    0\n",
      "symptoms      0\n",
      "dtype: int64\n",
      "Symptoms column data:\n",
      " 0    [itching, skin_rash, nodal_skin_eruptions, dis...\n",
      "1    [skin_rash, nodal_skin_eruptions, dischromic _...\n",
      "2    [itching, nodal_skin_eruptions, dischromic _pa...\n",
      "3            [itching, skin_rash, dischromic _patches]\n",
      "4           [itching, skin_rash, nodal_skin_eruptions]\n",
      "Name: symptoms, dtype: object\n",
      "Disease column unique values:\n",
      " ['Fungal infection' 'Allergy' 'GERD' 'Chronic cholestasis' 'Drug Reaction'\n",
      " 'Peptic ulcer diseae' 'AIDS' 'Diabetes ' 'Gastroenteritis'\n",
      " 'Bronchial Asthma' 'Hypertension ' 'Migraine' 'Cervical spondylosis'\n",
      " 'Paralysis (brain hemorrhage)' 'Jaundice' 'Malaria' 'Chicken pox'\n",
      " 'Dengue' 'Typhoid' 'hepatitis A' 'Hepatitis B' 'Hepatitis C'\n",
      " 'Hepatitis D' 'Hepatitis E' 'Alcoholic hepatitis' 'Tuberculosis'\n",
      " 'Common Cold' 'Pneumonia' 'Dimorphic hemmorhoids(piles)' 'Heart attack'\n",
      " 'Varicose veins' 'Hypothyroidism' 'Hyperthyroidism' 'Hypoglycemia'\n",
      " 'Osteoarthristis' 'Arthritis' '(vertigo) Paroymsal  Positional Vertigo'\n",
      " 'Acne' 'Urinary tract infection' 'Psoriasis' 'Impetigo']\n"
     ]
    }
   ],
   "source": [
    "print(\"Missing values in the dataset:\\n\", data.isnull().sum())\n",
    "print(\"Symptoms column data:\\n\", data[\"symptoms\"].head())\n",
    "print(\"Disease column unique values:\\n\", data[\"disease\"].unique())"
   ]
  }
 ],
 "metadata": {
  "kernelspec": {
   "display_name": "Python 3",
   "language": "python",
   "name": "python3"
  },
  "language_info": {
   "codemirror_mode": {
    "name": "ipython",
    "version": 3
   },
   "file_extension": ".py",
   "mimetype": "text/x-python",
   "name": "python",
   "nbconvert_exporter": "python",
   "pygments_lexer": "ipython3",
   "version": "3.11.9"
  }
 },
 "nbformat": 4,
 "nbformat_minor": 2
}
